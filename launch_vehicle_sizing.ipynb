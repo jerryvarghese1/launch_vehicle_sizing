{
 "cells": [
  {
   "cell_type": "code",
   "execution_count": 35,
   "id": "2133bc3c",
   "metadata": {},
   "outputs": [],
   "source": [
    "import numpy as np\n",
    "# CONSTANTS - DO NOT CHANGE\n",
    "G = 6.67E-11 # Gravitational Constant \n",
    "g_0 = 9.8 # Acceleration due to gravity on earth"
   ]
  },
  {
   "cell_type": "code",
   "execution_count": 46,
   "id": "46674022",
   "metadata": {},
   "outputs": [],
   "source": [
    "# Parameters\n",
    "M_M = 5.972E24 # Mass of orbited body (kg)\n",
    "R_M = 6371 # Radius of orbited body (km)\n",
    "w_M = 7.11E-5 # Equatorial angular velocity (rad/s)\n",
    "\n",
    "mpay = 10000 # payload mass (kg)\n",
    "\n",
    "Isp_1 = 310 # First Stage Isp (s)\n",
    "Isp_2 = 340 # Second Stage Isp (s)\n",
    "fInert1 = .3 # First Stage inert mass fraction \n",
    "fInert2 = .25 # Second Stage inert Mass fraction\n",
    "\n",
    "site_lattitude = 40 # Launch Site lattitude (degrees)\n",
    "target_inclination = 60 # Target orbital inclination (degrees)\n",
    "target_altitude = 100 # Target orbital altittude (km)\n",
    "\n",
    "twr_1 = 1.4 # Thrust to weight ratio for stage one, recommended > 1.4\n",
    "twr_2 = 1.3 # Thrust to weight ratio for stage two, recommended > 1.4"
   ]
  },
  {
   "cell_type": "code",
   "execution_count": 47,
   "id": "23c02320",
   "metadata": {},
   "outputs": [
    {
     "name": "stdout",
     "output_type": "stream",
     "text": [
      "Target Inclination: 60.00 deg \n",
      "Target Altitude: 100.00 km \n",
      "Calculated Azimuth: 40.75 deg\n",
      "Total dV: 11956.06 m/s\n"
     ]
    }
   ],
   "source": [
    "g_M = G*M_M/(R_M*1000)**2 # Acceleration due to gravity for orbited body (m/s^2)\n",
    "\n",
    "lat_rad = np.radians(site_lattitude)\n",
    "inc_rad = np.radians(target_inclination)\n",
    "            \n",
    "azimuth = np.degrees(np.arcsin(np.cos(inc_rad)/np.cos(lat_rad))) # degrees\n",
    "        \n",
    "\n",
    "dV_earth_help = w_M*R_M*np.cos(lat_rad)*np.sin(np.radians(azimuth))*1000 #  m/s\n",
    "escape_vel_ideal = np.sqrt(2*G*M_M/((R_M + target_altitude)*1000)) - dV_earth_help  # m/s\n",
    "\n",
    "dV_safety_factor = 1.1\n",
    "dV = escape_vel_ideal*dV_safety_factor\n",
    "\n",
    "print('Target Inclination: %.2f deg \\nTarget Altitude: %.2f km \\nCalculated Azimuth: %.2f deg\\nTotal dV: %.2f m/s'%(target_inclination, target_altitude, azimuth, dV))"
   ]
  },
  {
   "cell_type": "code",
   "execution_count": 52,
   "id": "9962ac6c",
   "metadata": {
    "scrolled": false
   },
   "outputs": [
    {
     "name": "stdout",
     "output_type": "stream",
     "text": [
      "dV Splitting - 2 Stages\n",
      "dV Stage 1: 5478.19 m/s\n",
      "dV Stage 2: 6477.86 m/s\n",
      "\n",
      "Stage 1\n",
      "Masses:\n",
      "    Dry Mass:           120207.53 kg\n",
      "    Propellant Mass:    433054.92 kg\n",
      "    Mass of Stage 2:    100166.02 kg\n",
      "Engine Information:\n",
      "    Thrust:             8840131.69 N\n",
      "    Mass Flow Rate:     2909.85 kg/s\n",
      "    Burn Duration:      148.82 s\n",
      "\n",
      "Stage 2\n",
      "Masses:\n",
      "    Dry Mass:           30041.51 kg\n",
      "    Propellant Mass:    60124.52 kg\n",
      "    Payload Mass:       10000.00 kg\n",
      "Engine Information:\n",
      "    Thrust:             1533576.50 N\n",
      "    Mass Flow Rate:     460.26 kg/s\n",
      "    Burn Duration:      130.63 s\n"
     ]
    }
   ],
   "source": [
    "f1 = np.linspace(0, 1, 300)\n",
    "f2 = 1 - f1\n",
    "\n",
    "c_1 = g_0*Isp_1\n",
    "c_2 = g_0*Isp_2\n",
    "\n",
    "p2 = np.exp(f2*dV/c_2)*(1-fInert2)/(1-fInert2*np.exp(f2*dV/c_2))\n",
    "p1 = np.exp(f1*dV/c_1)*(1-fInert1)/(1-fInert1*np.exp(f1*dV/c_1))\n",
    "\n",
    "f_pay = p1*p2\n",
    "pay_cons = f_pay[f_pay>0]\n",
    "f1_cons = f1[f_pay>0]\n",
    "\n",
    "lowest_ind = np.where(pay_cons == min(pay_cons))[0][0]\n",
    "cor_f1 = f1_cons[lowest_ind]\n",
    "cor_f2 = 1-cor_f1\n",
    "cor_tot_mass = pay_cons[lowest_ind]\n",
    "\n",
    "dV1 = cor_f1*dV\n",
    "dV2 = cor_f2*dV\n",
    "\n",
    "m_prop_2 = mpay*(1-np.exp(dV2/c_2))*(1-fInert2)/(1-fInert2*np.exp(dV2/c_2))\n",
    "m_inert_2 = fInert2*m_prop_2/(1-fInert2)\n",
    "m_final_2 = m_inert_2+mpay\n",
    "m_initial_2 = m_final_2+m_prop_2\n",
    "\n",
    "m_pay_1 = (mpay+m_initial_2)\n",
    "m_prop_1 = m_pay_1*(1-np.exp(dV1/c_1))*(1-fInert1)/(1-fInert1*np.exp(dV1/c_1))\n",
    "m_inert_1 = fInert1*m_prop_1/(1-fInert1)\n",
    "m_final_1 = m_inert_2+m_pay_1\n",
    "m_initial_1 = m_final_1+m_prop_1\n",
    "\n",
    "tot_mass = m_initial_2 + m_initial_1\n",
    "\n",
    "thrust_1 = twr_1*tot_mass*g_M\n",
    "mdot_1 = thrust_1/c_1\n",
    "t_b_1 = m_prop_1/mdot_1\n",
    "\n",
    "thrust_2 = twr_2*m_final_1*g_M\n",
    "mdot_2 = thrust_2/c_2\n",
    "t_b_2 = m_prop_2/mdot_2\n",
    "\n",
    "print('dV Splitting - 2 Stages')\n",
    "print('dV Stage 1: %.2f m/s\\ndV Stage 2: %.2f m/s'%(dV1, dV2))\n",
    "\n",
    "if np.any(np.array([m_prop_2, m_inert_2, m_final_2, m_inert_1, m_final_1, m_initial_1]) < 0):\n",
    "    print('Error: Mass Calculation Failed')\n",
    "    \n",
    "else:\n",
    "\n",
    "    print('\\nStage 1')\n",
    "    print('Masses:')\n",
    "    print('    Dry Mass:           %.2f kg'%(m_final_1))\n",
    "    print('    Propellant Mass:    %.2f kg'%(m_prop_1))\n",
    "    print('    Mass of Stage 2:    %.2f kg'%(m_pay_1))\n",
    "    print('Engine Information:')\n",
    "    print('    Thrust:             %.2f N'%(thrust_1))\n",
    "    print('    Mass Flow Rate:     %.2f kg/s'%(mdot_1))\n",
    "    print('    Burn Duration:      %.2f s'%(t_b_1))\n",
    "\n",
    "    print('\\nStage 2')\n",
    "    print('Masses:')\n",
    "    print('    Dry Mass:           %.2f kg'%(m_final_2))\n",
    "    print('    Propellant Mass:    %.2f kg'%(m_prop_2))\n",
    "    print('    Payload Mass:       %.2f kg'%(mpay))\n",
    "    print('Engine Information:')\n",
    "    print('    Thrust:             %.2f N'%(thrust_2))\n",
    "    print('    Mass Flow Rate:     %.2f kg/s'%(mdot_2))\n",
    "    print('    Burn Duration:      %.2f s'%(t_b_2))\n"
   ]
  },
  {
   "cell_type": "code",
   "execution_count": null,
   "id": "b10d03a6",
   "metadata": {},
   "outputs": [],
   "source": []
  }
 ],
 "metadata": {
  "kernelspec": {
   "display_name": "Python 3",
   "language": "python",
   "name": "python3"
  },
  "language_info": {
   "codemirror_mode": {
    "name": "ipython",
    "version": 3
   },
   "file_extension": ".py",
   "mimetype": "text/x-python",
   "name": "python",
   "nbconvert_exporter": "python",
   "pygments_lexer": "ipython3",
   "version": "3.8.8"
  }
 },
 "nbformat": 4,
 "nbformat_minor": 5
}
